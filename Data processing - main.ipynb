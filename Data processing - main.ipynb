{
 "cells": [
  {
   "cell_type": "code",
   "execution_count": 1,
   "id": "39b7970b",
   "metadata": {},
   "outputs": [],
   "source": [
    "import pandas as pd"
   ]
  },
  {
   "cell_type": "markdown",
   "id": "9ae0185a",
   "metadata": {},
   "source": [
    "# Loading data and dropping null values"
   ]
  },
  {
   "cell_type": "code",
   "execution_count": 2,
   "id": "b5afa5c5",
   "metadata": {},
   "outputs": [
    {
     "data": {
      "text/html": [
       "<div>\n",
       "<style scoped>\n",
       "    .dataframe tbody tr th:only-of-type {\n",
       "        vertical-align: middle;\n",
       "    }\n",
       "\n",
       "    .dataframe tbody tr th {\n",
       "        vertical-align: top;\n",
       "    }\n",
       "\n",
       "    .dataframe thead th {\n",
       "        text-align: right;\n",
       "    }\n",
       "</style>\n",
       "<table border=\"1\" class=\"dataframe\">\n",
       "  <thead>\n",
       "    <tr style=\"text-align: right;\">\n",
       "      <th></th>\n",
       "      <th>kdrama_name</th>\n",
       "      <th>actor</th>\n",
       "    </tr>\n",
       "  </thead>\n",
       "  <tbody>\n",
       "    <tr>\n",
       "      <th>0</th>\n",
       "      <td>100 Days My Prince</td>\n",
       "      <td>Doh Kyung Soo</td>\n",
       "    </tr>\n",
       "    <tr>\n",
       "      <th>1</th>\n",
       "      <td>100 Days My Prince</td>\n",
       "      <td>Nam Ji Hyun</td>\n",
       "    </tr>\n",
       "    <tr>\n",
       "      <th>2</th>\n",
       "      <td>100 Days My Prince</td>\n",
       "      <td>Kim Seon Ho</td>\n",
       "    </tr>\n",
       "    <tr>\n",
       "      <th>3</th>\n",
       "      <td>100 Days My Prince</td>\n",
       "      <td>Han So Hee</td>\n",
       "    </tr>\n",
       "    <tr>\n",
       "      <th>4</th>\n",
       "      <td>100 Days My Prince</td>\n",
       "      <td>Jo Sung Ha</td>\n",
       "    </tr>\n",
       "  </tbody>\n",
       "</table>\n",
       "</div>"
      ],
      "text/plain": [
       "          kdrama_name          actor\n",
       "0  100 Days My Prince  Doh Kyung Soo\n",
       "1  100 Days My Prince    Nam Ji Hyun\n",
       "2  100 Days My Prince    Kim Seon Ho\n",
       "3  100 Days My Prince     Han So Hee\n",
       "4  100 Days My Prince     Jo Sung Ha"
      ]
     },
     "execution_count": 2,
     "metadata": {},
     "output_type": "execute_result"
    }
   ],
   "source": [
    "actors = pd.read_csv(\"actors.csv\")\n",
    "actors.head()"
   ]
  },
  {
   "cell_type": "code",
   "execution_count": 3,
   "id": "3496cb29",
   "metadata": {},
   "outputs": [],
   "source": [
    "actors.dropna(inplace=True)"
   ]
  },
  {
   "cell_type": "code",
   "execution_count": 4,
   "id": "83809dae",
   "metadata": {},
   "outputs": [
    {
     "data": {
      "text/html": [
       "<div>\n",
       "<style scoped>\n",
       "    .dataframe tbody tr th:only-of-type {\n",
       "        vertical-align: middle;\n",
       "    }\n",
       "\n",
       "    .dataframe tbody tr th {\n",
       "        vertical-align: top;\n",
       "    }\n",
       "\n",
       "    .dataframe thead th {\n",
       "        text-align: right;\n",
       "    }\n",
       "</style>\n",
       "<table border=\"1\" class=\"dataframe\">\n",
       "  <thead>\n",
       "    <tr style=\"text-align: right;\">\n",
       "      <th></th>\n",
       "      <th>kdrama_name</th>\n",
       "      <th>original_networks</th>\n",
       "    </tr>\n",
       "  </thead>\n",
       "  <tbody>\n",
       "    <tr>\n",
       "      <th>0</th>\n",
       "      <td>100 Days My Prince</td>\n",
       "      <td>tvN</td>\n",
       "    </tr>\n",
       "    <tr>\n",
       "      <th>1</th>\n",
       "      <td>12 Signs of Love</td>\n",
       "      <td>tvN</td>\n",
       "    </tr>\n",
       "    <tr>\n",
       "      <th>2</th>\n",
       "      <td>12 Years Promise</td>\n",
       "      <td>jTBC</td>\n",
       "    </tr>\n",
       "    <tr>\n",
       "      <th>3</th>\n",
       "      <td>18 Again</td>\n",
       "      <td>jTBC</td>\n",
       "    </tr>\n",
       "    <tr>\n",
       "      <th>4</th>\n",
       "      <td>365: Repeat the Year</td>\n",
       "      <td>MBC</td>\n",
       "    </tr>\n",
       "  </tbody>\n",
       "</table>\n",
       "</div>"
      ],
      "text/plain": [
       "            kdrama_name original_networks\n",
       "0    100 Days My Prince               tvN\n",
       "1      12 Signs of Love               tvN\n",
       "2      12 Years Promise              jTBC\n",
       "3              18 Again              jTBC\n",
       "4  365: Repeat the Year               MBC"
      ]
     },
     "execution_count": 4,
     "metadata": {},
     "output_type": "execute_result"
    }
   ],
   "source": [
    "networks = pd.read_csv(\"networks.csv\")\n",
    "networks.head()"
   ]
  },
  {
   "cell_type": "code",
   "execution_count": 5,
   "id": "de41cc37",
   "metadata": {},
   "outputs": [
    {
     "data": {
      "text/plain": [
       "kdrama_name  original_networks\n",
       "False        False                1424\n",
       "             True                   28\n",
       "dtype: int64"
      ]
     },
     "execution_count": 5,
     "metadata": {},
     "output_type": "execute_result"
    }
   ],
   "source": [
    "networks.isna().value_counts()"
   ]
  },
  {
   "cell_type": "code",
   "execution_count": 6,
   "id": "224cb654",
   "metadata": {},
   "outputs": [],
   "source": [
    "networks.dropna(inplace=True)"
   ]
  },
  {
   "cell_type": "code",
   "execution_count": 7,
   "id": "12f8e49b",
   "metadata": {},
   "outputs": [
    {
     "data": {
      "text/html": [
       "<div>\n",
       "<style scoped>\n",
       "    .dataframe tbody tr th:only-of-type {\n",
       "        vertical-align: middle;\n",
       "    }\n",
       "\n",
       "    .dataframe tbody tr th {\n",
       "        vertical-align: top;\n",
       "    }\n",
       "\n",
       "    .dataframe thead th {\n",
       "        text-align: right;\n",
       "    }\n",
       "</style>\n",
       "<table border=\"1\" class=\"dataframe\">\n",
       "  <thead>\n",
       "    <tr style=\"text-align: right;\">\n",
       "      <th></th>\n",
       "      <th>kdrama_name</th>\n",
       "      <th>genre</th>\n",
       "    </tr>\n",
       "  </thead>\n",
       "  <tbody>\n",
       "    <tr>\n",
       "      <th>0</th>\n",
       "      <td>100 Days My Prince</td>\n",
       "      <td>historical</td>\n",
       "    </tr>\n",
       "    <tr>\n",
       "      <th>1</th>\n",
       "      <td>100 Days My Prince</td>\n",
       "      <td>comedy</td>\n",
       "    </tr>\n",
       "    <tr>\n",
       "      <th>2</th>\n",
       "      <td>100 Days My Prince</td>\n",
       "      <td>romance</td>\n",
       "    </tr>\n",
       "    <tr>\n",
       "      <th>3</th>\n",
       "      <td>100 Days My Prince</td>\n",
       "      <td>drama</td>\n",
       "    </tr>\n",
       "    <tr>\n",
       "      <th>4</th>\n",
       "      <td>12 Signs of Love</td>\n",
       "      <td>comedy</td>\n",
       "    </tr>\n",
       "  </tbody>\n",
       "</table>\n",
       "</div>"
      ],
      "text/plain": [
       "          kdrama_name       genre\n",
       "0  100 Days My Prince  historical\n",
       "1  100 Days My Prince      comedy\n",
       "2  100 Days My Prince     romance\n",
       "3  100 Days My Prince       drama\n",
       "4    12 Signs of Love      comedy"
      ]
     },
     "execution_count": 7,
     "metadata": {},
     "output_type": "execute_result"
    }
   ],
   "source": [
    "genres = pd.read_csv('genres.csv')\n",
    "genres.head()"
   ]
  },
  {
   "cell_type": "code",
   "execution_count": 8,
   "id": "b9f3f8a4",
   "metadata": {},
   "outputs": [],
   "source": [
    "genres.dropna(inplace=True)"
   ]
  },
  {
   "cell_type": "code",
   "execution_count": 9,
   "id": "1b58a88f",
   "metadata": {},
   "outputs": [
    {
     "data": {
      "text/html": [
       "<div>\n",
       "<style scoped>\n",
       "    .dataframe tbody tr th:only-of-type {\n",
       "        vertical-align: middle;\n",
       "    }\n",
       "\n",
       "    .dataframe tbody tr th {\n",
       "        vertical-align: top;\n",
       "    }\n",
       "\n",
       "    .dataframe thead th {\n",
       "        text-align: right;\n",
       "    }\n",
       "</style>\n",
       "<table border=\"1\" class=\"dataframe\">\n",
       "  <thead>\n",
       "    <tr style=\"text-align: right;\">\n",
       "      <th></th>\n",
       "      <th>kdrama_name</th>\n",
       "      <th>platform</th>\n",
       "    </tr>\n",
       "  </thead>\n",
       "  <tbody>\n",
       "    <tr>\n",
       "      <th>0</th>\n",
       "      <td>100 Days My Prince</td>\n",
       "      <td>WeTV</td>\n",
       "    </tr>\n",
       "    <tr>\n",
       "      <th>1</th>\n",
       "      <td>100 Days My Prince</td>\n",
       "      <td>Netflix</td>\n",
       "    </tr>\n",
       "    <tr>\n",
       "      <th>2</th>\n",
       "      <td>100 Days My Prince</td>\n",
       "      <td>KDRAMA</td>\n",
       "    </tr>\n",
       "    <tr>\n",
       "      <th>3</th>\n",
       "      <td>100 Days My Prince</td>\n",
       "      <td>Apple TV</td>\n",
       "    </tr>\n",
       "    <tr>\n",
       "      <th>4</th>\n",
       "      <td>100 Days My Prince</td>\n",
       "      <td>Viki</td>\n",
       "    </tr>\n",
       "  </tbody>\n",
       "</table>\n",
       "</div>"
      ],
      "text/plain": [
       "          kdrama_name   platform\n",
       "0  100 Days My Prince       WeTV\n",
       "1  100 Days My Prince    Netflix\n",
       "2  100 Days My Prince     KDRAMA\n",
       "3  100 Days My Prince   Apple TV\n",
       "4  100 Days My Prince       Viki"
      ]
     },
     "execution_count": 9,
     "metadata": {},
     "output_type": "execute_result"
    }
   ],
   "source": [
    "platforms = pd.read_csv('platforms.csv')\n",
    "platforms.head()"
   ]
  },
  {
   "cell_type": "code",
   "execution_count": 10,
   "id": "fbca3a0c",
   "metadata": {},
   "outputs": [],
   "source": [
    "platforms.dropna(inplace=True)"
   ]
  },
  {
   "cell_type": "code",
   "execution_count": 11,
   "id": "2abf3d47",
   "metadata": {},
   "outputs": [
    {
     "data": {
      "text/html": [
       "<div>\n",
       "<style scoped>\n",
       "    .dataframe tbody tr th:only-of-type {\n",
       "        vertical-align: middle;\n",
       "    }\n",
       "\n",
       "    .dataframe tbody tr th {\n",
       "        vertical-align: top;\n",
       "    }\n",
       "\n",
       "    .dataframe thead th {\n",
       "        text-align: right;\n",
       "    }\n",
       "</style>\n",
       "<table border=\"1\" class=\"dataframe\">\n",
       "  <thead>\n",
       "    <tr style=\"text-align: right;\">\n",
       "      <th></th>\n",
       "      <th>kdrama_name</th>\n",
       "      <th>tags</th>\n",
       "    </tr>\n",
       "  </thead>\n",
       "  <tbody>\n",
       "    <tr>\n",
       "      <th>0</th>\n",
       "      <td>100 Days My Prince</td>\n",
       "      <td>amnesia</td>\n",
       "    </tr>\n",
       "    <tr>\n",
       "      <th>1</th>\n",
       "      <td>100 Days My Prince</td>\n",
       "      <td>hidden identity</td>\n",
       "    </tr>\n",
       "    <tr>\n",
       "      <th>2</th>\n",
       "      <td>100 Days My Prince</td>\n",
       "      <td>marriage of convenience</td>\n",
       "    </tr>\n",
       "    <tr>\n",
       "      <th>3</th>\n",
       "      <td>100 Days My Prince</td>\n",
       "      <td>joseon dynasty</td>\n",
       "    </tr>\n",
       "    <tr>\n",
       "      <th>4</th>\n",
       "      <td>100 Days My Prince</td>\n",
       "      <td>fake marriage</td>\n",
       "    </tr>\n",
       "  </tbody>\n",
       "</table>\n",
       "</div>"
      ],
      "text/plain": [
       "          kdrama_name                      tags\n",
       "0  100 Days My Prince                   amnesia\n",
       "1  100 Days My Prince           hidden identity\n",
       "2  100 Days My Prince   marriage of convenience\n",
       "3  100 Days My Prince            joseon dynasty\n",
       "4  100 Days My Prince             fake marriage"
      ]
     },
     "execution_count": 11,
     "metadata": {},
     "output_type": "execute_result"
    }
   ],
   "source": [
    "tags = pd.read_csv('tags.csv')\n",
    "tags.head()"
   ]
  },
  {
   "cell_type": "code",
   "execution_count": 12,
   "id": "4eaa9008",
   "metadata": {},
   "outputs": [],
   "source": [
    "tags.dropna(inplace=True)"
   ]
  },
  {
   "cell_type": "markdown",
   "id": "ee7f3f87",
   "metadata": {},
   "source": [
    "# Merging data\n",
    "Using inner join to merge actors, networks, genres, platforms, tags and episode length."
   ]
  },
  {
   "cell_type": "code",
   "execution_count": 13,
   "id": "aad3cf13",
   "metadata": {},
   "outputs": [],
   "source": [
    "overall = pd.read_csv('main_descriptors.csv')\n",
    "episode_length = overall[['Kdrama_name','Episodes']].copy()\n",
    "episode_length.rename({'Kdrama_name':'kdrama_name', \"Episodes\": \"episodes\"},axis=1,inplace=True)"
   ]
  },
  {
   "cell_type": "code",
   "execution_count": 14,
   "id": "79e0fbd2",
   "metadata": {},
   "outputs": [],
   "source": [
    "drama = actors \\\n",
    ".merge(networks, on=\"kdrama_name\") \\\n",
    ".merge(genres, on=\"kdrama_name\") \\\n",
    ".merge(platforms, on=\"kdrama_name\") \\\n",
    ".merge(tags, on=\"kdrama_name\") \\\n",
    ".merge(episode_length, on=\"kdrama_name\")"
   ]
  },
  {
   "cell_type": "code",
   "execution_count": 15,
   "id": "a6bea5e0",
   "metadata": {},
   "outputs": [],
   "source": [
    "# stripping trailing and leading spaces from columns\n",
    "drama[['kdrama_name', 'actor', 'original_networks', 'genre', 'platform','tags']] = \\\n",
    "drama[['kdrama_name', 'actor', 'original_networks', 'genre', 'platform',\n",
    "       'tags']].apply(lambda column: column.str.strip())"
   ]
  },
  {
   "cell_type": "code",
   "execution_count": 16,
   "id": "abf15cc7",
   "metadata": {},
   "outputs": [],
   "source": [
    "drama.to_csv(\"drama.csv\", index=False)"
   ]
  },
  {
   "cell_type": "code",
   "execution_count": 18,
   "id": "c1fb2e7e",
   "metadata": {},
   "outputs": [
    {
     "data": {
      "text/plain": [
       "array(['WeTV', 'Netflix', 'KDRAMA', 'Apple TV', 'Viki', 'LDF',\n",
       "       'Lululala Story Lab', 'Kakao TV', 'KBS World', 'Prime Video',\n",
       "       'AsianCrush', 'PlayList Global', 'Disney', 'Disney Hotstar',\n",
       "       'SBS World', 'TVING', 'Wavve', 'Tubi', 'iflix', 'Hulu',\n",
       "       'KBS Drama Classic', 'SBS VOD', 'LINE TV', 'iWant TFC',\n",
       "       'China Huace TV', 'KOK TV', 'Tooniverse', 'KBS Drama', ''],\n",
       "      dtype=object)"
      ]
     },
     "execution_count": 18,
     "metadata": {},
     "output_type": "execute_result"
    }
   ],
   "source": [
    "drama.platform.unique()"
   ]
  },
  {
   "cell_type": "code",
   "execution_count": null,
   "id": "39fa1414",
   "metadata": {},
   "outputs": [],
   "source": []
  }
 ],
 "metadata": {
  "kernelspec": {
   "display_name": "Python 3 (ipykernel)",
   "language": "python",
   "name": "python3"
  },
  "language_info": {
   "codemirror_mode": {
    "name": "ipython",
    "version": 3
   },
   "file_extension": ".py",
   "mimetype": "text/x-python",
   "name": "python",
   "nbconvert_exporter": "python",
   "pygments_lexer": "ipython3",
   "version": "3.9.15"
  }
 },
 "nbformat": 4,
 "nbformat_minor": 5
}
